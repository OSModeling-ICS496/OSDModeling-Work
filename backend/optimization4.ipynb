{
 "cells": [
  {
   "cell_type": "code",
   "execution_count": 32,
   "id": "58cbdd9a-d79a-4ab5-b1f0-33b053022562",
   "metadata": {},
   "outputs": [
    {
     "name": "stdout",
     "output_type": "stream",
     "text": [
      "Requirement already satisfied: pulp in c:\\users\\mygos\\appdata\\local\\programs\\python\\python311\\lib\\site-packages (2.8.0)\n",
      "Note: you may need to restart the kernel to use updated packages.\n"
     ]
    }
   ],
   "source": [
    "pip install pulp"
   ]
  },
  {
   "cell_type": "code",
   "execution_count": 58,
   "id": "3d75d7e9-1be0-45ed-bc6f-60b460a03fab",
   "metadata": {},
   "outputs": [
    {
     "name": "stdout",
     "output_type": "stream",
     "text": [
      "Enter coordinates for Origin:\n"
     ]
    },
    {
     "name": "stdin",
     "output_type": "stream",
     "text": [
      "Latitude:  21.3069\n",
      "Longitude:  -157.8583\n"
     ]
    },
    {
     "name": "stdout",
     "output_type": "stream",
     "text": [
      "\n",
      "Enter coordinates for Point B:\n"
     ]
    },
    {
     "name": "stdin",
     "output_type": "stream",
     "text": [
      "Latitude:  13.4443\n",
      "Longitude:  144.7937\n"
     ]
    },
    {
     "name": "stdout",
     "output_type": "stream",
     "text": [
      "\n",
      "Enter coordinates for Point C:\n"
     ]
    },
    {
     "name": "stdin",
     "output_type": "stream",
     "text": [
      "Latitude:  13.4667\n",
      "Longitude:  144.7833\n"
     ]
    },
    {
     "name": "stdout",
     "output_type": "stream",
     "text": [
      "\n",
      "Total overall distance to cover between waypoints (in km): 6120.11\n",
      "\n",
      "List of Drones Meeting Endurance and Range Constraints:\n",
      "Flexrotor: Endurance: Not Optimal, Range: Optimal\n",
      "VBAT: Endurance: Not Optimal, Range: Optimal\n",
      "Global Hawk: Endurance: Optimal, Range: Optimal\n",
      "Triton: Endurance: Optimal, Range: Optimal\n",
      "Reaper: Endurance: Optimal, Range: Optimal\n",
      "Gray Eagle: Endurance: Optimal, Range: Optimal\n",
      "Shadow: Endurance: Not Optimal, Range: Not Optimal\n",
      "Raven: Endurance: Not Optimal, Range: Not Optimal\n",
      "Puma: Endurance: Not Optimal, Range: Not Optimal\n",
      "Sentinel: Endurance: Not Optimal, Range: Optimal\n",
      "X-47B: Endurance: Not Optimal, Range: Optimal\n",
      "\n",
      "List of drones that can do this mission:\n",
      "Global Hawk\n",
      "Triton\n",
      "Reaper\n",
      "Gray Eagle\n"
     ]
    }
   ],
   "source": [
    "from math import radians, sin, cos, sqrt, atan2\n",
    "\n",
    "# List of drones with their endurance, range, and speed (in km/h)\n",
    "drones = [\n",
    "    {'name': 'Flexrotor', 'endurance': 29, 'range': 900, 'speed': 100},\n",
    "    {'name': 'VBAT', 'endurance': 10, 'range': 300, 'speed': 50},\n",
    "    {'name': 'Global Hawk', 'endurance': 38, 'range': 22800, 'speed': 1400},\n",
    "    {'name': 'Triton', 'endurance': 30, 'range': 15200, 'speed': 1300},\n",
    "    {'name': 'Reaper', 'endurance': 27, 'range': 1900, 'speed': 1500},\n",
    "    {'name': 'Gray Eagle', 'endurance': 25, 'range': 6000, 'speed': 1400},\n",
    "    {'name': 'Shadow', 'endurance': 6, 'range': 110, 'speed': 30},\n",
    "    {'name': 'Raven', 'endurance': 1, 'range': 6, 'speed': 10},\n",
    "    {'name': 'Puma', 'endurance': 4, 'range': 15, 'speed': 20},\n",
    "    {'name': 'Sentinel', 'endurance': 6, 'range': 1668, 'speed': 80},\n",
    "    {'name': 'X-47B', 'endurance': 4, 'range': 2400, 'speed': 150}\n",
    "]\n",
    "\n",
    "# Function to calculate distance between two points using Haversine formula\n",
    "def calculate_distance(lat1, lon1, lat2, lon2):\n",
    "    R = 6371.0  # Radius of the Earth in km\n",
    "\n",
    "    lat1_rad = radians(lat1)\n",
    "    lon1_rad = radians(lon1)\n",
    "    lat2_rad = radians(lat2)\n",
    "    lon2_rad = radians(lon2)\n",
    "\n",
    "    dlon = lon2_rad - lon1_rad\n",
    "    dlat = lat2_rad - lat1_rad\n",
    "\n",
    "    a = sin(dlat / 2)**2 + cos(lat1_rad) * cos(lat2_rad) * sin(dlon / 2)**2\n",
    "    c = 2 * atan2(sqrt(a), sqrt(1 - a))\n",
    "\n",
    "    distance = R * c\n",
    "    return distance\n",
    "\n",
    "# Prompt user for latitude and longitude of Origin\n",
    "print(\"Enter coordinates for Origin:\")\n",
    "origin_lat = float(input(\"Latitude: \"))\n",
    "origin_lon = float(input(\"Longitude: \"))\n",
    "\n",
    "# Prompt user for latitude and longitude of Point B\n",
    "print(\"\\nEnter coordinates for Point B:\")\n",
    "point_b_lat = float(input(\"Latitude: \"))\n",
    "point_b_lon = float(input(\"Longitude: \"))\n",
    "\n",
    "# Prompt user for latitude and longitude of Point C\n",
    "print(\"\\nEnter coordinates for Point C:\")\n",
    "point_c_lat = float(input(\"Latitude: \"))\n",
    "point_c_lon = float(input(\"Longitude: \"))\n",
    "\n",
    "# Calculate distance from Origin to Point B to Point C\n",
    "origin_to_b_distance = calculate_distance(origin_lat, origin_lon, point_b_lat, point_b_lon)\n",
    "b_to_c_distance = calculate_distance(point_b_lat, point_b_lon, point_c_lat, point_c_lon)\n",
    "\n",
    "# Total overall distance or range\n",
    "total_distance = origin_to_b_distance + b_to_c_distance\n",
    "\n",
    "# Print total range\n",
    "print(\"\\nTotal overall distance to cover between waypoints (in km): {:.2f}\".format(total_distance))\n",
    "\n",
    "# Function to calculate travel time for each drone\n",
    "def calculate_travel_time(distance, speed):\n",
    "    return distance / speed\n",
    "\n",
    "# Check constraints for each drone\n",
    "print(\"\\nList of Drones Meeting Endurance and Range Constraints:\")\n",
    "optimal_drones = []\n",
    "for drone in drones:\n",
    "    endurance_status = \"Optimal\" if total_distance <= drone['endurance'] * drone['speed'] else \"Not Optimal\"\n",
    "    range_status = \"Optimal\" if total_distance <= drone['range'] * drone['speed'] else \"Not Optimal\"\n",
    "    print(\"{}: Endurance: {}, Range: {}\".format(drone['name'], endurance_status, range_status))\n",
    "    if endurance_status == \"Optimal\" and range_status == \"Optimal\":\n",
    "        optimal_drones.append(drone['name'])\n",
    "\n",
    "# Print list of drones that can do the mission\n",
    "if optimal_drones:\n",
    "    print(\"\\nList of drones that can do this mission:\")\n",
    "    for drone in optimal_drones:\n",
    "        print(drone)\n",
    "else:\n",
    "    print(\"\\nNo drones can do this mission\")\n"
   ]
  },
  {
   "cell_type": "code",
   "execution_count": null,
   "id": "d7a384ab-57dd-4312-b524-63531d67215e",
   "metadata": {},
   "outputs": [],
   "source": []
  }
 ],
 "metadata": {
  "kernelspec": {
   "display_name": "Python 3 (ipykernel)",
   "language": "python",
   "name": "python3"
  },
  "language_info": {
   "codemirror_mode": {
    "name": "ipython",
    "version": 3
   },
   "file_extension": ".py",
   "mimetype": "text/x-python",
   "name": "python",
   "nbconvert_exporter": "python",
   "pygments_lexer": "ipython3",
   "version": "3.11.2"
  }
 },
 "nbformat": 4,
 "nbformat_minor": 5
}
