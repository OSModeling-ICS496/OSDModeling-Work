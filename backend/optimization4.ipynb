{
 "cells": [
  {
   "cell_type": "code",
   "execution_count": 32,
   "id": "58cbdd9a-d79a-4ab5-b1f0-33b053022562",
   "metadata": {},
   "outputs": [
    {
     "name": "stdout",
     "output_type": "stream",
     "text": [
      "Requirement already satisfied: pulp in c:\\users\\mygos\\appdata\\local\\programs\\python\\python311\\lib\\site-packages (2.8.0)\n",
      "Note: you may need to restart the kernel to use updated packages.\n"
     ]
    }
   ],
   "source": [
    "pip install pulp"
   ]
  },
  {
   "cell_type": "code",
   "execution_count": 46,
   "id": "3d75d7e9-1be0-45ed-bc6f-60b460a03fab",
   "metadata": {},
   "outputs": [
    {
     "name": "stdin",
     "output_type": "stream",
     "text": [
      "Enter the total range from Origin to Point B (in km):  1000\n",
      "Enter the travel time from Origin to Point B (in hours):  5\n",
      "Enter the travel time from Point B to Point C (in hours):  2\n"
     ]
    },
    {
     "name": "stdout",
     "output_type": "stream",
     "text": [
      "Total travel time: 7.0 hours\n",
      "\n",
      "List of Drones Meeting Endurance and Range Constraints:\n",
      "Flexrotor: Endurance: Optimal, Range: Not Optimal\n",
      "VBAT: Endurance: Optimal, Range: Not Optimal\n",
      "Global Hawk: Endurance: Optimal, Range: Optimal\n",
      "Triton: Endurance: Optimal, Range: Optimal\n",
      "Reaper: Endurance: Optimal, Range: Optimal\n",
      "Gray Eagle: Endurance: Optimal, Range: Optimal\n",
      "Shadow: Endurance: Not Optimal, Range: Not Optimal\n",
      "Raven: Endurance: Not Optimal, Range: Not Optimal\n",
      "Puma: Endurance: Not Optimal, Range: Not Optimal\n",
      "Sentinel: Endurance: Not Optimal, Range: Optimal\n",
      "X-47B: Endurance: Not Optimal, Range: Optimal\n",
      "\n",
      "Selected drones:\n",
      "Global Hawk\n",
      "Triton\n",
      "Reaper\n",
      "Gray Eagle\n"
     ]
    }
   ],
   "source": [
    "# Define drones\n",
    "drones = [\n",
    "    {'name': 'Flexrotor', 'range': 900, 'endurance': 29},\n",
    "    {'name': 'VBAT', 'range': 300, 'endurance': 10},\n",
    "    {'name': 'Global Hawk', 'range': 22800, 'endurance': 38},\n",
    "    {'name': 'Triton', 'range': 15200, 'endurance': 30},\n",
    "    {'name': 'Reaper', 'range': 1900, 'endurance': 27},\n",
    "    {'name': 'Gray Eagle', 'range': 6000, 'endurance': 25},\n",
    "    {'name': 'Shadow', 'range': 110, 'endurance': 6},\n",
    "    {'name': 'Raven', 'range': 6, 'endurance': 1},\n",
    "    {'name': 'Puma', 'range': 15, 'endurance': 4},\n",
    "    {'name': 'Sentinel', 'range': 1668, 'endurance': 6},\n",
    "    {'name': 'X-47B', 'range': 2400, 'endurance': 4}\n",
    "]\n",
    "\n",
    "# Function to prompt user for travel time between waypoints\n",
    "def get_travel_time(waypoint):\n",
    "    return float(input(f\"Enter the travel time from {waypoint} (in hours): \"))\n",
    "\n",
    "# Prompt user for range to cover between waypoints\n",
    "total_range = float(input(\"Enter the total range from Origin to Point B (in km): \"))\n",
    "\n",
    "# Define waypoints\n",
    "waypoints = ['Origin', 'Point B', 'Point C']  # Assuming Point C is the center of Guam\n",
    "\n",
    "# Initialize variables to store total travel time\n",
    "total_travel_time = 0\n",
    "\n",
    "# Prompt user for travel time between each waypoint\n",
    "for i in range(len(waypoints) - 1):\n",
    "    from_waypoint = waypoints[i]\n",
    "    to_waypoint = waypoints[i + 1]\n",
    "    travel_time = get_travel_time(f'{from_waypoint} to {to_waypoint}')\n",
    "    total_travel_time += travel_time\n",
    "\n",
    "# Print total travel time\n",
    "print(f\"Total travel time: {total_travel_time} hours\")\n",
    "\n",
    "# Check if drones meet both endurance and range constraints\n",
    "print(\"\\nList of Drones Meeting Endurance and Range Constraints:\")\n",
    "selected_drones = []\n",
    "for drone in drones:\n",
    "    if drone['endurance'] >= total_travel_time and drone['range'] >= total_range:\n",
    "        print(f\"{drone['name']}: Endurance: Optimal, Range: Optimal\")\n",
    "        selected_drones.append(drone['name'])\n",
    "    elif drone['endurance'] >= total_travel_time:\n",
    "        print(f\"{drone['name']}: Endurance: Optimal, Range: Not Optimal\")\n",
    "    elif drone['range'] >= total_range:\n",
    "        print(f\"{drone['name']}: Endurance: Not Optimal, Range: Optimal\")\n",
    "    else:\n",
    "        print(f\"{drone['name']}: Endurance: Not Optimal, Range: Not Optimal\")\n",
    "\n",
    "# Print selected drones\n",
    "if selected_drones:\n",
    "    print(\"\\nSelected drones:\")\n",
    "    for drone in selected_drones:\n",
    "        print(drone)\n",
    "else:\n",
    "    print(\"No drones can do this mission\")\n"
   ]
  },
  {
   "cell_type": "code",
   "execution_count": null,
   "id": "d7a384ab-57dd-4312-b524-63531d67215e",
   "metadata": {},
   "outputs": [],
   "source": []
  }
 ],
 "metadata": {
  "kernelspec": {
   "display_name": "Python 3 (ipykernel)",
   "language": "python",
   "name": "python3"
  },
  "language_info": {
   "codemirror_mode": {
    "name": "ipython",
    "version": 3
   },
   "file_extension": ".py",
   "mimetype": "text/x-python",
   "name": "python",
   "nbconvert_exporter": "python",
   "pygments_lexer": "ipython3",
   "version": "3.11.2"
  }
 },
 "nbformat": 4,
 "nbformat_minor": 5
}
