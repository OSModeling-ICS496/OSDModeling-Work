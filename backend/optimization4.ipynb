{
 "cells": [
  {
   "cell_type": "code",
   "execution_count": 32,
   "id": "58cbdd9a-d79a-4ab5-b1f0-33b053022562",
   "metadata": {},
   "outputs": [
    {
     "name": "stdout",
     "output_type": "stream",
     "text": [
      "Requirement already satisfied: pulp in c:\\users\\mygos\\appdata\\local\\programs\\python\\python311\\lib\\site-packages (2.8.0)\n",
      "Note: you may need to restart the kernel to use updated packages.\n"
     ]
    }
   ],
   "source": [
    "pip install pulp"
   ]
  },
  {
   "cell_type": "code",
   "execution_count": 34,
   "id": "3d75d7e9-1be0-45ed-bc6f-60b460a03fab",
   "metadata": {},
   "outputs": [
    {
     "name": "stdin",
     "output_type": "stream",
     "text": [
      "Enter the minimum total endurance (in hours):  5\n",
      "Enter the minimum total range (in km):  100\n"
     ]
    },
    {
     "name": "stdout",
     "output_type": "stream",
     "text": [
      "List of Drones Meeting Endurance and Range Constraints:\n",
      "Flexrotor\n",
      "VBAT\n",
      "Global Hawk\n",
      "Triton\n",
      "Reaper\n",
      "Gray Eagle\n",
      "Shadow\n",
      "Sentinel\n"
     ]
    },
    {
     "name": "stdin",
     "output_type": "stream",
     "text": [
      "Do you want to see detailed information for each drone (Y/N)?  Y\n"
     ]
    },
    {
     "name": "stdout",
     "output_type": "stream",
     "text": [
      "\n",
      "Detailed Information:\n",
      "\n",
      "Flexrotor:\n",
      "Endurance: Optimal\n",
      "Range: Optimal\n",
      "\n",
      "VBAT:\n",
      "Endurance: Optimal\n",
      "Range: Optimal\n",
      "\n",
      "Global Hawk:\n",
      "Endurance: Optimal\n",
      "Range: Optimal\n",
      "\n",
      "Triton:\n",
      "Endurance: Optimal\n",
      "Range: Optimal\n",
      "\n",
      "Reaper:\n",
      "Endurance: Optimal\n",
      "Range: Optimal\n",
      "\n",
      "Gray Eagle:\n",
      "Endurance: Optimal\n",
      "Range: Optimal\n",
      "\n",
      "Shadow:\n",
      "Endurance: Optimal\n",
      "Range: Optimal\n",
      "\n",
      "Raven:\n",
      "Endurance: Not Optimal\n",
      "Range: Not Optimal\n",
      "\n",
      "Puma:\n",
      "Endurance: Not Optimal\n",
      "Range: Not Optimal\n",
      "\n",
      "Sentinel:\n",
      "Endurance: Optimal\n",
      "Range: Optimal\n",
      "\n",
      "X-47B:\n",
      "Endurance: Not Optimal\n",
      "Range: Optimal\n"
     ]
    }
   ],
   "source": [
    "# Define drones\n",
    "drones = [\n",
    "    {'name': 'Flexrotor', 'range': 900, 'endurance': 29},\n",
    "    {'name': 'VBAT', 'range': 300, 'endurance': 10},\n",
    "    {'name': 'Global Hawk', 'range': 22800, 'endurance': 38},\n",
    "    {'name': 'Triton', 'range': 15200, 'endurance': 30},\n",
    "    {'name': 'Reaper', 'range': 1900, 'endurance': 27},\n",
    "    {'name': 'Gray Eagle', 'range': 6000, 'endurance': 25},\n",
    "    {'name': 'Shadow', 'range': 110, 'endurance': 6},\n",
    "    {'name': 'Raven', 'range': 6, 'endurance': 1},\n",
    "    {'name': 'Puma', 'range': 15, 'endurance': 4},\n",
    "    {'name': 'Sentinel', 'range': 1668, 'endurance': 6},\n",
    "    {'name': 'X-47B', 'range': 2400, 'endurance': 4}\n",
    "]\n",
    "\n",
    "# Get endurance constraint from user\n",
    "endurance_constraint = float(input(\"Enter the minimum total endurance (in hours): \"))\n",
    "\n",
    "# Get range constraint from user\n",
    "range_constraint = float(input(\"Enter the minimum total range (in km): \"))\n",
    "\n",
    "# Print list of drones meeting both endurance and range constraints\n",
    "print(\"List of Drones Meeting Endurance and Range Constraints:\")\n",
    "selected_drones = []\n",
    "for drone in drones:\n",
    "    # Check if the drone meets the endurance constraint\n",
    "    endurance_optimal = drone['endurance'] >= endurance_constraint\n",
    "    \n",
    "    # Check if the drone meets the range constraint\n",
    "    range_optimal = drone['range'] >= range_constraint\n",
    "    \n",
    "    # Print drone name if it meets both constraints\n",
    "    if endurance_optimal and range_optimal:\n",
    "        print(drone['name'])\n",
    "        selected_drones.append(drone['name'])\n",
    "\n",
    "# Prompt the user to see detailed information\n",
    "see_details = input(\"Do you want to see detailed information for each drone (Y/N)? \").upper()\n",
    "\n",
    "# Print detailed information for each drone\n",
    "if see_details == 'Y':\n",
    "    print(\"\\nDetailed Information:\")\n",
    "    for drone in drones:\n",
    "        # Check if the drone meets the endurance constraint\n",
    "        endurance_optimal = drone['endurance'] >= endurance_constraint\n",
    "        \n",
    "        # Check if the drone meets the range constraint\n",
    "        range_optimal = drone['range'] >= range_constraint\n",
    "        \n",
    "        # Print detailed information\n",
    "        print(f\"\\n{drone['name']}:\")\n",
    "        if endurance_optimal:\n",
    "            print(\"Endurance: Optimal\")\n",
    "        else:\n",
    "            print(\"Endurance: Not Optimal\")\n",
    "        if range_optimal:\n",
    "            print(\"Range: Optimal\")\n",
    "        else:\n",
    "            print(\"Range: Not Optimal\")\n",
    "\n",
    "# If no drones meet both constraints, print message\n",
    "if not selected_drones:\n",
    "    print(\"No drones can do this mission\")\n"
   ]
  },
  {
   "cell_type": "code",
   "execution_count": null,
   "id": "d7a384ab-57dd-4312-b524-63531d67215e",
   "metadata": {},
   "outputs": [],
   "source": []
  }
 ],
 "metadata": {
  "kernelspec": {
   "display_name": "Python 3 (ipykernel)",
   "language": "python",
   "name": "python3"
  },
  "language_info": {
   "codemirror_mode": {
    "name": "ipython",
    "version": 3
   },
   "file_extension": ".py",
   "mimetype": "text/x-python",
   "name": "python",
   "nbconvert_exporter": "python",
   "pygments_lexer": "ipython3",
   "version": "3.11.2"
  }
 },
 "nbformat": 4,
 "nbformat_minor": 5
}
