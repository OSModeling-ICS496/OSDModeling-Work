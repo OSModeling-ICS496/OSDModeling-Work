{
 "cells": [
  {
   "cell_type": "code",
   "execution_count": 1,
   "id": "032931c3",
   "metadata": {},
   "outputs": [
    {
     "name": "stdout",
     "output_type": "stream",
     "text": [
      "Requirement already satisfied: pulp in c:\\users\\alex\\anaconda3\\lib\\site-packages (2.8.0)\n"
     ]
    }
   ],
   "source": [
    "!pip install pulp"
   ]
  },
  {
   "cell_type": "code",
   "execution_count": 2,
   "id": "c5fdac9b",
   "metadata": {},
   "outputs": [],
   "source": [
    "import pulp\n",
    "import math"
   ]
  },
  {
   "cell_type": "code",
   "execution_count": 3,
   "id": "8fb308a6",
   "metadata": {},
   "outputs": [],
   "source": [
    "# Updated Drones Data with Quantity\n",
    "drones = [\n",
    "    {'name': 'MQ-9 Reaper', 'endurance': 14, 'coverage': 2, 'speed': 300, 'quantity': 1},\n",
    "    {'name': 'MQ-1 Predator', 'endurance': 24, 'coverage': 1.5, 'speed': 135, 'quantity': 1},\n",
    "    {'name': 'MQ-8 Fire Scout', 'endurance': 8, 'coverage': 1, 'speed': 132, 'quantity': 1},\n",
    "    {'name': 'RQ-4 Global Hawk', 'endurance': 32, 'coverage': 5, 'speed': 391, 'quantity': 1},\n",
    "    {'name': 'RQ-11 Raven', 'endurance': 1.5, 'coverage': 0.05, 'speed': 18.64, 'quantity': 1},\n",
    "    {'name': 'RQ-20 Puma', 'endurance': 2, 'coverage': 0.1, 'speed': 52, 'quantity': 1},\n",
    "    {'name': 'RQ-21 Blackjack', 'endurance': 16, 'coverage': 1, 'speed': 100, 'quantity': 1},\n",
    "    {'name': 'TAI Aksungur', 'endurance': 50, 'coverage': 2, 'speed': 50, 'quantity': 1},\n",
    "    {'name': 'Chengdu Wing Loong II', 'endurance': 10, 'coverage': 2, 'speed': 100, 'quantity': 1},\n",
    "    {'name': 'Bayraktar TB2', 'endurance': 24, 'coverage': 1.5, 'speed': 80, 'quantity': 1},\n",
    "]\n",
    "\n",
    "points_data = [\n",
    "    {'lat': 34.0522, 'lng': -118.2437, 'order': 1, 'size': 150, 'time': 5},\n",
    "    {'lat': 36.7783, 'lng': -119.4179, 'order': 2, 'size': 250, 'time': 3},\n",
    "]\n",
    "\n",
    "# User input for minimum coverage percentage\n",
    "min_coverage_percent = 90"
   ]
  },
  {
   "cell_type": "markdown",
   "id": "d2c4bc5c",
   "metadata": {},
   "source": [
    "### Drones: \n",
    "A list of drones, where each drone \n",
    "\n",
    "$endurance_{i}$: The maximum duration (in hours) the drone can operate without refueling or recharging.\n",
    "\n",
    "$coverage_{i}$: The width of the area (in km) the drone can cover in a single pass at a given altitude.\n",
    "\n",
    "$speed_{i}$: The speed of the drone (in km/h).\n",
    "\n",
    "$quantity_{i}$: The number of available units for each drone type."
   ]
  },
  {
   "cell_type": "markdown",
   "id": "9b85bf11",
   "metadata": {},
   "source": [
    "### Points Data: \n",
    "A list of points of interest, where each point \n",
    "\n",
    "$size_{j}$: The area (in km²) that needs to be covered or surveyed.\n",
    "\n",
    "$time_{j}$: The duration (in hours) for which the coverage needs to be maintained."
   ]
  },
  {
   "cell_type": "markdown",
   "id": "58e9fb02",
   "metadata": {},
   "source": [
    "### Min Coverage Percent: \n",
    "The minimum percentage of the point's area that needs to be covered, represented as \n",
    "min_coverage_percent"
   ]
  },
  {
   "cell_type": "markdown",
   "id": "6a4a9d6b",
   "metadata": {},
   "source": [
    "### Decision Variables:\n",
    "x_ij: Binary variable that equals 1 if drone i is used to cover point j, and 0 otherwise.\n",
    "\n",
    "\n",
    "### Objective Function:\n",
    "Minimize the total number of drones used across all points:\n",
    "$ min\\sum \\limits _{i=1} ^n \\sum \\limits _{j=1} ^m x_{ij} $\n",
    "\n",
    "\n",
    "### Constraints:\n",
    "#### Coverage Constraint: \n",
    "Ensure that the drones assigned to each point j collectively cover at least the required area size of the point.\n",
    "\n",
    "$ \\sum \\limits _{i=1} ^n x_{ij} * coverage_{i} * speed_{i} \\ge size_{j}, $ for all $j$\n",
    "\n",
    "#### Endurance Constraint: \n",
    "Ensure that each drone assigned to a point can cover it for the required duration.\n",
    "\n",
    "$ x_{ij}  *  time_{j} $ $ \\le endurance_{i}$, for all $i$ and $j$\n",
    "\n",
    "#### Assignment Constraint: \n",
    "A drone can be assigned to a point only if it's available (considering the quantity available for each drone type).\n",
    "\n",
    "$ x_{ij} \\le quantity_{i}$, for all $i$ and $j$"
   ]
  },
  {
   "cell_type": "code",
   "execution_count": 4,
   "id": "0fc79bae",
   "metadata": {},
   "outputs": [],
   "source": [
    "# Haversine formula to calculate the great-circle distance between two points\n",
    "def calculate_distance(point1, point2):\n",
    "    R = 6371  # Earth radius in km\n",
    "    lat1, lon1 = map(math.radians, [point1['lat'], point1['lng']])\n",
    "    lat2, lon2 = map(math.radians, [point2['lat'], point2['lng']])\n",
    "    dlat = lat2 - lat1\n",
    "    dlon = lon2 - lon1\n",
    "    a = math.sin(dlat / 2)**2 + math.cos(lat1) * math.cos(lat2) * math.sin(dlon / 2)**2\n",
    "    c = 2 * math.atan2(math.sqrt(a), math.sqrt(1 - a))\n",
    "    return R * c\n",
    "\n",
    "# Calculate distances between consecutive points\n",
    "for i in range(len(points_data) - 1):\n",
    "    points_data[i]['distance_to_next'] = calculate_distance(points_data[i], points_data[i + 1])\n",
    "points_data[-1]['distance_to_next'] = 0  # Last point has no next point"
   ]
  },
  {
   "cell_type": "code",
   "execution_count": 5,
   "id": "e63021f6",
   "metadata": {},
   "outputs": [
    {
     "name": "stdout",
     "output_type": "stream",
     "text": [
      "Status: Optimal\n",
      "Drone MQ-9 Reaper is selected to cover Point 2.\n",
      "Drone Chengdu Wing Loong II is selected to cover Point 1.\n"
     ]
    }
   ],
   "source": [
    "# Define the problem as a minimization problem\n",
    "problem = pulp.LpProblem(\"DroneDeploymentMultiplePoints\", pulp.LpMinimize)\n",
    "\n",
    "# Decision variables: x_{i}_j = 1 if drone i is used for point j, 0 otherwise\n",
    "drone_vars = pulp.LpVariable.dicts(\"drone\", [(i, j) for i in range(len(drones)) for j in range(len(points_data))], cat=pulp.LpBinary)\n",
    "\n",
    "# Objective Function: Minimize the number of drones used\n",
    "problem += pulp.lpSum(drone_vars[i, j] for i in range(len(drones)) for j in range(len(points_data))), \"MinimizeDrones\"\n",
    "\n",
    "# Constraints\n",
    "for j, point in enumerate(points_data):\n",
    "    # Ensure the coverage for each point is met\n",
    "    problem += pulp.lpSum(drone_vars[i, j] * drones[i]['coverage'] * drones[i]['speed'] for i in range(len(drones))) >= point['size'], f\"Coverage_Point_{j}\"\n",
    "    \n",
    "    # Ensure that each drone assigned can cover the point for the required time\n",
    "    for i, drone in enumerate(drones):\n",
    "        problem += drone_vars[i, j] * point['time'] <= drones[i]['endurance'], f\"Endurance_Drone_{i}_Point_{j}\"\n",
    "\n",
    "# Solve the problem\n",
    "problem.solve()\n",
    "\n",
    "# Output the results\n",
    "print(\"Status:\", pulp.LpStatus[problem.status])\n",
    "if pulp.LpStatus[problem.status] == \"Optimal\":\n",
    "    for i in range(len(drones)):\n",
    "        for j in range(len(points_data)):\n",
    "            if pulp.value(drone_vars[i, j]) == 1:\n",
    "                print(f\"Drone {drones[i]['name']} is selected to cover Point {points_data[j]['order']}.\")\n",
    "else:\n",
    "    print(\"No feasible solution found. One or more points cannot be covered by the available drones.\")"
   ]
  },
  {
   "cell_type": "code",
   "execution_count": null,
   "id": "c36823de",
   "metadata": {},
   "outputs": [],
   "source": []
  }
 ],
 "metadata": {
  "kernelspec": {
   "display_name": "Python 3 (ipykernel)",
   "language": "python",
   "name": "python3"
  },
  "language_info": {
   "codemirror_mode": {
    "name": "ipython",
    "version": 3
   },
   "file_extension": ".py",
   "mimetype": "text/x-python",
   "name": "python",
   "nbconvert_exporter": "python",
   "pygments_lexer": "ipython3",
   "version": "3.11.5"
  }
 },
 "nbformat": 4,
 "nbformat_minor": 5
}
