{
 "cells": [
  {
   "cell_type": "code",
   "execution_count": 1,
   "id": "032931c3",
   "metadata": {},
   "outputs": [
    {
     "name": "stdout",
     "output_type": "stream",
     "text": [
      "Requirement already satisfied: pulp in c:\\users\\alex\\anaconda3\\lib\\site-packages (2.8.0)\n"
     ]
    }
   ],
   "source": [
    "!pip install pulp"
   ]
  },
  {
   "cell_type": "code",
   "execution_count": 2,
   "id": "c5fdac9b",
   "metadata": {},
   "outputs": [],
   "source": [
    "import pulp\n",
    "import math"
   ]
  },
  {
   "cell_type": "code",
   "execution_count": 3,
   "id": "8fb308a6",
   "metadata": {},
   "outputs": [],
   "source": [
    "# Updated Drones Data with Quantity\n",
    "drones = [\n",
    "    {'name': 'MQ-9 Reaper', 'endurance': 14, 'coverage': 2, 'speed': 300, 'quantity': 2},\n",
    "    {'name': 'MQ-1 Predator', 'endurance': 24, 'coverage': 1.5, 'speed': 135, 'quantity': 3},\n",
    "    {'name': 'MQ-8 Fire Scout', 'endurance': 8, 'coverage': 1, 'speed': 132, 'quantity': 1},\n",
    "    {'name': 'RQ-4 Global Hawk', 'endurance': 32, 'coverage': 5, 'speed': 391, 'quantity': 1},\n",
    "    {'name': 'RQ-11 Raven', 'endurance': 1.5, 'coverage': 0.05, 'speed': 18.64, 'quantity': 1},\n",
    "    {'name': 'RQ-20 Puma', 'endurance': 2, 'coverage': 0.1, 'speed': 52, 'quantity': 1},\n",
    "    {'name': 'RQ-21 Blackjack', 'endurance': 16, 'coverage': 1, 'speed': 100, 'quantity': 1},\n",
    "    {'name': 'TAI Aksungur', 'endurance': 50, 'coverage': 2, 'speed': 50, 'quantity': 1},\n",
    "    {'name': 'Chengdu Wing Loong II', 'endurance': 10, 'coverage': 2, 'speed': 100, 'quantity': 1},\n",
    "    {'name': 'Bayraktar TB2', 'endurance': 24, 'coverage': 1.5, 'speed': 80, 'quantity': 1},\n",
    "]\n",
    "\n",
    "points_data = [\n",
    "    {'lat': 34.0522, 'lng': -118.2437, 'order': 1, 'size': 150, 'time': 5},\n",
    "    {'lat': 36.7783, 'lng': -119.4179, 'order': 2, 'size': 250, 'time': 3},\n",
    "]\n",
    "\n",
    "# User input for minimum coverage percentage\n",
    "min_coverage_percent = 90"
   ]
  },
  {
   "cell_type": "markdown",
   "id": "6695bf79",
   "metadata": {},
   "source": [
    "### Drones: \n",
    "A list of drones, where each drone \n",
    "\n",
    "$endurance_{i}$: The maximum duration (in hours) the drone can operate without refueling or recharging.\n",
    "\n",
    "$coverage_{i}$: The width of the area (in km) the drone can cover in a single pass at a given altitude.\n",
    "\n",
    "$speed_{i}$: The speed of the drone (in km/h).\n",
    "\n",
    "$quantity_{i}$: The number of available units for each drone type."
   ]
  },
  {
   "cell_type": "markdown",
   "id": "2bae8e23",
   "metadata": {},
   "source": [
    "### Points Data: \n",
    "A list of points of interest, where each point \n",
    "\n",
    "$size_{j}$: The area (in km²) that needs to be covered or surveyed.\n",
    "\n",
    "$time_{j}$: The duration (in hours) for which the coverage needs to be maintained."
   ]
  },
  {
   "cell_type": "markdown",
   "id": "9fefbb88",
   "metadata": {},
   "source": [
    "### Min Coverage Percent: \n",
    "The minimum percentage of the point's area that needs to be covered, represented as \n",
    "min_coverage_percent"
   ]
  },
  {
   "cell_type": "markdown",
   "id": "07159d6c",
   "metadata": {},
   "source": [
    "### Decision Variables:\n",
    "x_ij: Binary variable that equals 1 if drone i is used to cover point j, and 0 otherwise.\n",
    "\n",
    "\n",
    "### Objective Function:\n",
    "Minimize the total number of drones used across all points:\n",
    "$ min\\sum \\limits _{i=1} ^n \\sum \\limits _{j=1} ^m x_{ij} $\n",
    "\n",
    "\n",
    "### Constraints:\n",
    "#### Coverage Constraint: \n",
    "Ensure that the drones assigned to each point j collectively cover at least the required area size of the point.\n",
    "\n",
    "$ \\sum \\limits _{i=1} ^n x_{ij} * coverage_{i} * speed_{i} \\ge size_{j}, $ for all $j$\n",
    "\n",
    "#### Endurance Constraint: \n",
    "Ensure that each drone assigned to a point can cover it for the required duration.\n",
    "\n",
    "$ x_{ij}  *  time_{j} $ $ \\le endurance_{i}$, for all $i$ and $j$\n",
    "\n",
    "#### Assignment Constraint: \n",
    "A drone can be assigned to a point only if it's available (considering the quantity available for each drone type).\n",
    "\n",
    "$ x_{ij} \\le quantity_{i}$, for all $i$ and $j$"
   ]
  },
  {
   "cell_type": "code",
   "execution_count": 4,
   "id": "0fc79bae",
   "metadata": {},
   "outputs": [],
   "source": [
    "# Haversine formula to calculate the great-circle distance between two points\n",
    "def calculate_distance(point1, point2):\n",
    "    R = 6371  # Earth radius in km\n",
    "    lat1, lon1 = map(math.radians, [point1['lat'], point1['lng']])\n",
    "    lat2, lon2 = map(math.radians, [point2['lat'], point2['lng']])\n",
    "    dlat = lat2 - lat1\n",
    "    dlon = lon2 - lon1\n",
    "    a = math.sin(dlat / 2)**2 + math.cos(lat1) * math.cos(lat2) * math.sin(dlon / 2)**2\n",
    "    c = 2 * math.atan2(math.sqrt(a), math.sqrt(1 - a))\n",
    "    return R * c\n",
    "\n",
    "# Calculate distances between consecutive points\n",
    "for i in range(len(points_data) - 1):\n",
    "    points_data[i]['distance_to_next'] = calculate_distance(points_data[i], points_data[i + 1])\n",
    "points_data[-1]['distance_to_next'] = 0  # Last point has no next point"
   ]
  },
  {
   "cell_type": "code",
   "execution_count": 5,
   "id": "e63021f6",
   "metadata": {},
   "outputs": [
    {
     "name": "stdout",
     "output_type": "stream",
     "text": [
      "Status: Optimal\n",
      "Drone MQ-9 Reaper is selected to cover Point 2.\n",
      "Drone Chengdu Wing Loong II is selected to cover Point 1.\n",
      "Total number of MQ-9 Reaper drones used: 1\n",
      "Total number of MQ-1 Predator drones used: 0\n",
      "Total number of MQ-8 Fire Scout drones used: 0\n",
      "Total number of RQ-4 Global Hawk drones used: 0\n",
      "Total number of RQ-11 Raven drones used: 0\n",
      "Total number of RQ-20 Puma drones used: 0\n",
      "Total number of RQ-21 Blackjack drones used: 0\n",
      "Total number of TAI Aksungur drones used: 0\n",
      "Total number of Chengdu Wing Loong II drones used: 1\n",
      "Total number of Bayraktar TB2 drones used: 0\n"
     ]
    }
   ],
   "source": [
    "# Define the problem as a minimization problem\n",
    "problem = pulp.LpProblem(\"DroneDeploymentMultiplePoints\", pulp.LpMinimize)\n",
    "\n",
    "# Decision variables: x_{i}_j = 1 if drone i is used for point j, 0 otherwise\n",
    "drone_vars = pulp.LpVariable.dicts(\"drone\", [(i, j) for i in range(len(drones)) for j in range(len(points_data))], cat=pulp.LpBinary)\n",
    "\n",
    "# Objective Function: Minimize the number of drones used\n",
    "problem += pulp.lpSum(drone_vars[i, j] for i in range(len(drones)) for j in range(len(points_data))), \"MinimizeDrones\"\n",
    "\n",
    "# Constraints\n",
    "for j, point in enumerate(points_data):\n",
    "    # Ensure the coverage for each point is met\n",
    "    problem += pulp.lpSum(drone_vars[i, j] * drones[i]['coverage'] * drones[i]['speed'] for i in range(len(drones))) >= point['size'], f\"Coverage_Point_{j}\"\n",
    "    \n",
    "    # Ensure that each drone assigned can cover the point for the required time\n",
    "    for i, drone in enumerate(drones):\n",
    "        problem += drone_vars[i, j] * point['time'] <= drones[i]['endurance'], f\"Endurance_Drone_{i}_Point_{j}\"\n",
    "\n",
    "# Solve the problem\n",
    "problem.solve()\n",
    "\n",
    "# Output the results\n",
    "print(\"Status:\", pulp.LpStatus[problem.status])\n",
    "\n",
    "if pulp.LpStatus[problem.status] == \"Optimal\":\n",
    "    drone_usage = {drone['name']: 0 for drone in drones}  # Initialize a dictionary to count the usage of each drone type\n",
    "\n",
    "    for i, drone in enumerate(drones):\n",
    "        for j in range(len(points_data)):\n",
    "            if pulp.value(drone_vars[i, j]) == 1:\n",
    "                print(f\"Drone {drone['name']} is selected to cover Point {points_data[j]['order']}.\")\n",
    "                drone_usage[drone['name']] += 1  # Increment the count for the drone\n",
    "\n",
    "    # Display the total number of each drone type used\n",
    "    for drone_name, count in drone_usage.items():\n",
    "        print(f\"Total number of {drone_name} drones used: {count}\")\n",
    "else:\n",
    "    print(\"No feasible solution found. One or more points cannot be covered by the available drones.\")\n"
   ]
  },
  {
   "cell_type": "code",
   "execution_count": 6,
   "id": "7a859991",
   "metadata": {},
   "outputs": [
    {
     "data": {
      "text/plain": [
       "DroneDeploymentMultiplePoints:\n",
       "MINIMIZE\n",
       "1*drone_(0,_0) + 1*drone_(0,_1) + 1*drone_(1,_0) + 1*drone_(1,_1) + 1*drone_(2,_0) + 1*drone_(2,_1) + 1*drone_(3,_0) + 1*drone_(3,_1) + 1*drone_(4,_0) + 1*drone_(4,_1) + 1*drone_(5,_0) + 1*drone_(5,_1) + 1*drone_(6,_0) + 1*drone_(6,_1) + 1*drone_(7,_0) + 1*drone_(7,_1) + 1*drone_(8,_0) + 1*drone_(8,_1) + 1*drone_(9,_0) + 1*drone_(9,_1) + 0\n",
       "SUBJECT TO\n",
       "Coverage_Point_0: 600 drone_(0,_0) + 202.5 drone_(1,_0) + 132 drone_(2,_0)\n",
       " + 1955 drone_(3,_0) + 0.932 drone_(4,_0) + 5.2 drone_(5,_0)\n",
       " + 100 drone_(6,_0) + 100 drone_(7,_0) + 200 drone_(8,_0) + 120 drone_(9,_0)\n",
       " >= 150\n",
       "\n",
       "Endurance_Drone_0_Point_0: 5 drone_(0,_0) <= 14\n",
       "\n",
       "Endurance_Drone_1_Point_0: 5 drone_(1,_0) <= 24\n",
       "\n",
       "Endurance_Drone_2_Point_0: 5 drone_(2,_0) <= 8\n",
       "\n",
       "Endurance_Drone_3_Point_0: 5 drone_(3,_0) <= 32\n",
       "\n",
       "Endurance_Drone_4_Point_0: 5 drone_(4,_0) <= 1.5\n",
       "\n",
       "Endurance_Drone_5_Point_0: 5 drone_(5,_0) <= 2\n",
       "\n",
       "Endurance_Drone_6_Point_0: 5 drone_(6,_0) <= 16\n",
       "\n",
       "Endurance_Drone_7_Point_0: 5 drone_(7,_0) <= 50\n",
       "\n",
       "Endurance_Drone_8_Point_0: 5 drone_(8,_0) <= 10\n",
       "\n",
       "Endurance_Drone_9_Point_0: 5 drone_(9,_0) <= 24\n",
       "\n",
       "Coverage_Point_1: 600 drone_(0,_1) + 202.5 drone_(1,_1) + 132 drone_(2,_1)\n",
       " + 1955 drone_(3,_1) + 0.932 drone_(4,_1) + 5.2 drone_(5,_1)\n",
       " + 100 drone_(6,_1) + 100 drone_(7,_1) + 200 drone_(8,_1) + 120 drone_(9,_1)\n",
       " >= 250\n",
       "\n",
       "Endurance_Drone_0_Point_1: 3 drone_(0,_1) <= 14\n",
       "\n",
       "Endurance_Drone_1_Point_1: 3 drone_(1,_1) <= 24\n",
       "\n",
       "Endurance_Drone_2_Point_1: 3 drone_(2,_1) <= 8\n",
       "\n",
       "Endurance_Drone_3_Point_1: 3 drone_(3,_1) <= 32\n",
       "\n",
       "Endurance_Drone_4_Point_1: 3 drone_(4,_1) <= 1.5\n",
       "\n",
       "Endurance_Drone_5_Point_1: 3 drone_(5,_1) <= 2\n",
       "\n",
       "Endurance_Drone_6_Point_1: 3 drone_(6,_1) <= 16\n",
       "\n",
       "Endurance_Drone_7_Point_1: 3 drone_(7,_1) <= 50\n",
       "\n",
       "Endurance_Drone_8_Point_1: 3 drone_(8,_1) <= 10\n",
       "\n",
       "Endurance_Drone_9_Point_1: 3 drone_(9,_1) <= 24\n",
       "\n",
       "VARIABLES\n",
       "0 <= drone_(0,_0) <= 1 Integer\n",
       "0 <= drone_(0,_1) <= 1 Integer\n",
       "0 <= drone_(1,_0) <= 1 Integer\n",
       "0 <= drone_(1,_1) <= 1 Integer\n",
       "0 <= drone_(2,_0) <= 1 Integer\n",
       "0 <= drone_(2,_1) <= 1 Integer\n",
       "0 <= drone_(3,_0) <= 1 Integer\n",
       "0 <= drone_(3,_1) <= 1 Integer\n",
       "0 <= drone_(4,_0) <= 1 Integer\n",
       "0 <= drone_(4,_1) <= 1 Integer\n",
       "0 <= drone_(5,_0) <= 1 Integer\n",
       "0 <= drone_(5,_1) <= 1 Integer\n",
       "0 <= drone_(6,_0) <= 1 Integer\n",
       "0 <= drone_(6,_1) <= 1 Integer\n",
       "0 <= drone_(7,_0) <= 1 Integer\n",
       "0 <= drone_(7,_1) <= 1 Integer\n",
       "0 <= drone_(8,_0) <= 1 Integer\n",
       "0 <= drone_(8,_1) <= 1 Integer\n",
       "0 <= drone_(9,_0) <= 1 Integer\n",
       "0 <= drone_(9,_1) <= 1 Integer"
      ]
     },
     "execution_count": 6,
     "metadata": {},
     "output_type": "execute_result"
    }
   ],
   "source": [
    "problem"
   ]
  },
  {
   "cell_type": "code",
   "execution_count": null,
   "id": "170d7697",
   "metadata": {},
   "outputs": [],
   "source": []
  }
 ],
 "metadata": {
  "kernelspec": {
   "display_name": "Python 3 (ipykernel)",
   "language": "python",
   "name": "python3"
  },
  "language_info": {
   "codemirror_mode": {
    "name": "ipython",
    "version": 3
   },
   "file_extension": ".py",
   "mimetype": "text/x-python",
   "name": "python",
   "nbconvert_exporter": "python",
   "pygments_lexer": "ipython3",
   "version": "3.11.5"
  }
 },
 "nbformat": 4,
 "nbformat_minor": 5
}
