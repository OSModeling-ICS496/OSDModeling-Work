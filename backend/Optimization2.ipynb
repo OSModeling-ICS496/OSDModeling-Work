{
 "cells": [
  {
   "cell_type": "code",
   "execution_count": 1,
   "id": "032931c3",
   "metadata": {
    "scrolled": true
   },
   "outputs": [
    {
     "name": "stdout",
     "output_type": "stream",
     "text": [
      "Collecting pulp\n",
      "  Obtaining dependency information for pulp from https://files.pythonhosted.org/packages/09/d7/57e71e11108203039c895643368c0d1a99fe719a6a80184edf240c33d25f/PuLP-2.8.0-py3-none-any.whl.metadata\n",
      "  Downloading PuLP-2.8.0-py3-none-any.whl.metadata (5.4 kB)\n",
      "Downloading PuLP-2.8.0-py3-none-any.whl (17.7 MB)\n",
      "   ---------------------------------------- 0.0/17.7 MB ? eta -:--:--\n",
      "   ---------------------------------------- 0.0/17.7 MB ? eta -:--:--\n",
      "   ---------------------------------------- 0.0/17.7 MB ? eta -:--:--\n",
      "   ---------------------------------------- 0.0/17.7 MB ? eta -:--:--\n",
      "   ---------------------------------------- 0.0/17.7 MB ? eta -:--:--\n",
      "   ---------------------------------------- 0.0/17.7 MB 186.2 kB/s eta 0:01:35\n",
      "   ---------------------------------------- 0.0/17.7 MB 178.6 kB/s eta 0:01:39\n",
      "   ---------------------------------------- 0.1/17.7 MB 261.4 kB/s eta 0:01:08\n",
      "   ---------------------------------------- 0.1/17.7 MB 423.5 kB/s eta 0:00:42\n",
      "   ---------------------------------------- 0.2/17.7 MB 588.9 kB/s eta 0:00:30\n",
      "    --------------------------------------- 0.3/17.7 MB 682.7 kB/s eta 0:00:26\n",
      "    --------------------------------------- 0.4/17.7 MB 855.4 kB/s eta 0:00:21\n",
      "    --------------------------------------- 0.4/17.7 MB 911.8 kB/s eta 0:00:19\n",
      "   - -------------------------------------- 0.6/17.7 MB 1.2 MB/s eta 0:00:14\n",
      "   - -------------------------------------- 0.9/17.7 MB 1.6 MB/s eta 0:00:11\n",
      "   --- ------------------------------------ 1.4/17.7 MB 2.4 MB/s eta 0:00:07\n",
      "   ---- ----------------------------------- 1.9/17.7 MB 3.0 MB/s eta 0:00:06\n",
      "   ------ --------------------------------- 3.0/17.7 MB 4.4 MB/s eta 0:00:04\n",
      "   -------- ------------------------------- 4.0/17.7 MB 5.4 MB/s eta 0:00:03\n",
      "   ----------- ---------------------------- 5.2/17.7 MB 6.7 MB/s eta 0:00:02\n",
      "   -------------- ------------------------- 6.4/17.7 MB 7.9 MB/s eta 0:00:02\n",
      "   ----------------- ---------------------- 7.8/17.7 MB 9.1 MB/s eta 0:00:02\n",
      "   --------------------- ------------------ 9.3/17.7 MB 10.3 MB/s eta 0:00:01\n",
      "   ------------------------ --------------- 10.7/17.7 MB 21.1 MB/s eta 0:00:01\n",
      "   --------------------------- ------------ 12.0/17.7 MB 28.4 MB/s eta 0:00:01\n",
      "   ------------------------------ --------- 13.4/17.7 MB 31.1 MB/s eta 0:00:01\n",
      "   --------------------------------- ------ 14.8/17.7 MB 31.2 MB/s eta 0:00:01\n",
      "   ------------------------------------ --- 16.2/17.7 MB 31.2 MB/s eta 0:00:01\n",
      "   ---------------------------------------  17.5/17.7 MB 32.7 MB/s eta 0:00:01\n",
      "   ---------------------------------------  17.7/17.7 MB 31.2 MB/s eta 0:00:01\n",
      "   ---------------------------------------  17.7/17.7 MB 31.2 MB/s eta 0:00:01\n",
      "   ---------------------------------------- 17.7/17.7 MB 24.2 MB/s eta 0:00:00\n",
      "Installing collected packages: pulp\n",
      "Successfully installed pulp-2.8.0\n"
     ]
    }
   ],
   "source": [
    "!pip install pulp"
   ]
  },
  {
   "cell_type": "code",
   "execution_count": 6,
   "id": "c5fdac9b",
   "metadata": {},
   "outputs": [],
   "source": [
    "import pulp\n",
    "import math"
   ]
  },
  {
   "cell_type": "code",
   "execution_count": 27,
   "id": "8fb308a6",
   "metadata": {},
   "outputs": [],
   "source": [
    "# Updated Drones Data with Quantity\n",
    "drones = [\n",
    "    {'name': 'Drone1', 'endurance': 5, 'coverage': 10, 'speed': 100, 'quantity': 2},  # 2 units of Drone1\n",
    "    {'name': 'Drone2', 'endurance': 7, 'coverage': 15, 'speed': 120, 'quantity': 1},  # 1 unit of Drone2\n",
    "     {'name': 'Drone3' ,'endurance': 10, 'coverage': 20, 'speed': 80, 'quantity': 2},\n",
    "    {'name': 'Drone4' ,'endurance': 12, 'coverage': 15, 'speed': 75, 'quantity': 2},\n",
    "    {'name': 'Drone5' ,'endurance': 8, 'coverage': 12, 'speed': 55, 'quantity': 2},\n",
    "    {'name': 'Drone6' ,'endurance': 8, 'coverage': 18, 'speed': 60, 'quantity': 2},\n",
    "]\n",
    "\n",
    "# Points Data (same as before)\n",
    "coordData = [\n",
    "    {'lat': 1, 'lng': 1, 'order': 1, 'size': 100, 'time': 2},\n",
    "    {'lat': 2, 'lng': 2, 'order': 2, 'size': 200, 'time': 3},\n",
    "    {'lat': 3, 'lng': 3, 'order': 3, 'size': 300, 'time': 4},\n",
    "]\n",
    "\n",
    "# User input for minimum coverage percentage\n",
    "min_coverage_percent = 90"
   ]
  },
  {
   "cell_type": "code",
   "execution_count": 28,
   "id": "55337503",
   "metadata": {},
   "outputs": [],
   "source": [
    "# Haversine formula to calculate the great-circle distance between two points\n",
    "def calculate_distance(point1, point2):\n",
    "    R = 6371  # Earth radius in km\n",
    "    lat1, lon1 = map(math.radians, [float(point1['lat']), float(point1['lng'])])\n",
    "    lat2, lon2 = map(math.radians, [float(point2['lat']), float(point2['lng'])])\n",
    "\n",
    "    dlat = lat2 - lat1\n",
    "    dlon = lon2 - lon1\n",
    "\n",
    "    a = math.sin(dlat / 2)**2 + math.cos(lat1) * math.cos(lat2) * math.sin(dlon / 2)**2\n",
    "    c = 2 * math.atan2(math.sqrt(a), math.sqrt(1 - a))\n",
    "\n",
    "    return R * c\n",
    "\n",
    "# Update points_data with distances between consecutive points\n",
    "for i in range(len(points_data) - 1):\n",
    "    points_data[i]['distance_to_next'] = calculate_distance(points_data[i], points_data[i + 1])\n",
    "points_data[-1]['distance_to_next'] = 0  # Last point has no next point\n",
    "\n"
   ]
  },
  {
   "cell_type": "code",
   "execution_count": 29,
   "id": "0fc79bae",
   "metadata": {},
   "outputs": [
    {
     "name": "stdout",
     "output_type": "stream",
     "text": [
      "Status: Infeasible\n",
      "x_0_0 is selected.\n",
      "x_0_1 is selected.\n",
      "x_1_0 is selected.\n",
      "x_2_0 is selected.\n",
      "x_2_1 is selected.\n",
      "x_3_0 is selected.\n",
      "x_3_1 is selected.\n",
      "x_4_0 is selected.\n",
      "x_4_1 is selected.\n",
      "x_5_0 is selected.\n",
      "x_5_1 is selected.\n"
     ]
    }
   ],
   "source": [
    "# Define the problem\n",
    "problem = pulp.LpProblem(\"DroneDeploymentMultiplePoints\", pulp.LpMaximize)\n",
    "\n",
    "# Expanded decision variables for each drone instance\n",
    "drone_vars = []\n",
    "drone_indices = []  # Keep track of the drone index for each variable\n",
    "for i, drone in enumerate(drones):\n",
    "    for q in range(drone['quantity']):\n",
    "        drone_vars.append(pulp.LpVariable(f\"x_{i}_{q}\", cat=pulp.LpBinary))\n",
    "        drone_indices.append(i)  # Store the drone index\n",
    "\n",
    "# Objective Function: Still maximizing coverage\n",
    "problem += pulp.lpSum([var * drones[drone_indices[i]]['coverage'] for i, var in enumerate(drone_vars)]), \"TotalCoverage\"\n",
    "\n",
    "# Constraints for each drone instance at each point\n",
    "for idx, var in enumerate(drone_vars):\n",
    "    drone_index = drone_indices[idx]\n",
    "    drone = drones[drone_index]\n",
    "    time_spent = 0\n",
    "    for j, point in enumerate(points_data):\n",
    "        if j < len(points_data) - 1:  # Exclude the last point which has no next point\n",
    "            travel_time_to_next = point['distance_to_next'] / drone['speed']\n",
    "            time_spent += travel_time_to_next + point['time']\n",
    "            problem += var * time_spent <= drone['endurance'], f\"Endurance_{idx}_Point_{j}\"\n",
    "\n",
    "# Constraint: Minimum coverage area requirement at each point\n",
    "for j, point in enumerate(points_data):\n",
    "    problem += pulp.lpSum([var * drones[drone_indices[i]]['coverage'] for i, var in enumerate(drone_vars)]) >= point['size'], f\"MinCoverage_Point_{j}\"\n",
    "\n",
    "# Solve the problem\n",
    "problem.solve()\n",
    "\n",
    "# Output the results\n",
    "print(\"Status:\", pulp.LpStatus[problem.status])\n",
    "for var in drone_vars:\n",
    "    if pulp.value(var) == 1:\n",
    "        print(f\"{var.name} is selected.\")\n"
   ]
  },
  {
   "cell_type": "code",
   "execution_count": null,
   "id": "e63021f6",
   "metadata": {},
   "outputs": [],
   "source": []
  }
 ],
 "metadata": {
  "kernelspec": {
   "display_name": "Python 3 (ipykernel)",
   "language": "python",
   "name": "python3"
  },
  "language_info": {
   "codemirror_mode": {
    "name": "ipython",
    "version": 3
   },
   "file_extension": ".py",
   "mimetype": "text/x-python",
   "name": "python",
   "nbconvert_exporter": "python",
   "pygments_lexer": "ipython3",
   "version": "3.11.5"
  }
 },
 "nbformat": 4,
 "nbformat_minor": 5
}
