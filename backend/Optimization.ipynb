{
 "cells": [
  {
   "cell_type": "code",
   "execution_count": 5,
   "id": "f252d6a7",
   "metadata": {},
   "outputs": [
    {
     "name": "stdout",
     "output_type": "stream",
     "text": [
      "Objective 1 - Maximize Coverage Area:\n",
      "Combination: ['Drone2', 'Drone3', 'Drone4', 'Drone5', 'Drone6'] Total Coverage: 80 km^2\n",
      "\n",
      "Objective 2 - Maximize Time at Point B:\n",
      "No valid combinations found.\n",
      "\n",
      "Objective 3 - Minimize Drones Used:\n",
      "No valid combinations found.\n"
     ]
    }
   ],
   "source": [
    "from itertools import combinations\n",
    "\n",
    "# Given data\n",
    "drones = [\n",
    "    {'name': 'Drone1' ,'endurance': 5, 'coverage': 10, 'speed': 100},\n",
    "    {'name': 'Drone2' ,'endurance': 7, 'coverage': 15, 'speed': 120},\n",
    "    {'name': 'Drone3' ,'endurance': 10, 'coverage': 20, 'speed': 80},\n",
    "    {'name': 'Drone4' ,'endurance': 12, 'coverage': 15, 'speed': 75},\n",
    "    {'name': 'Drone5' ,'endurance': 8, 'coverage': 12, 'speed': 55},\n",
    "    {'name': 'Drone6' ,'endurance': 8, 'coverage': 18, 'speed': 60},\n",
    "]\n",
    "\n",
    "# Example User Inputs\n",
    "user_inputs = {\n",
    "    'distance_AB': 75,  # Distance from Point A to Point B in km\n",
    "    'time_at_B': 5,  # Required time at Point B in hours\n",
    "    'size_of_B': 150,  # Size of Point B in km^2\n",
    "    'min_coverage_percent': 75,  # Minimum required coverage of Point B in percentage\n",
    "}\n",
    "\n",
    "min_coverage_area = user_inputs['size_of_B'] * (user_inputs['min_coverage_percent'] / 100)\n",
    "\n",
    "# Utility Functions\n",
    "def can_stay_at_B(drone):\n",
    "    round_trip_time = (2 * user_inputs['distance_AB']) / drone['speed']\n",
    "    return drone['endurance'] >= round_trip_time + user_inputs['time_at_B'], drone['endurance'] - round_trip_time\n",
    "\n",
    "def total_coverage(drones):\n",
    "    return sum(drone['coverage'] for drone in drones)\n",
    "\n",
    "# Generating Combinations\n",
    "all_combos = [combo for r in range(1, len(drones)+1) for combo in combinations(drones, r)]\n",
    "\n",
    "# Objective 1: Maximize Coverage Area\n",
    "filtered_combos_for_coverage = [combo for combo in all_combos if all(can_stay_at_B(drone)[0] for drone in combo)]\n",
    "max_coverage_combo = max(filtered_combos_for_coverage, key=total_coverage, default=None)\n",
    "\n",
    "# Objective 2: Maximize Time at Point B\n",
    "# Filtering combos by minimum coverage area first\n",
    "filtered_combos_for_time = [combo for combo in all_combos if total_coverage(combo) >= min_coverage_area]\n",
    "max_time_combo = max(filtered_combos_for_time, key=lambda x: min(can_stay_at_B(drone)[1] for drone in x), default=None)\n",
    "\n",
    "# Objective 3: Minimize Drones Used\n",
    "# Ensuring the combo meets both time at B and coverage area constraints\n",
    "min_drones_combo = min([combo for combo in filtered_combos_for_coverage if total_coverage(combo) >= min_coverage_area], key=len, default=None)\n",
    "\n",
    "# Printing Results\n",
    "print(\"Objective 1 - Maximize Coverage Area:\")\n",
    "if max_coverage_combo:\n",
    "    print(\"Combination:\", [drone['name'] for drone in max_coverage_combo], \"Total Coverage:\", total_coverage(max_coverage_combo), \"km^2\")\n",
    "else:\n",
    "    print(\"No valid combinations found.\")\n",
    "\n",
    "print(\"\\nObjective 2 - Maximize Time at Point B:\")\n",
    "if max_time_combo:\n",
    "    max_time_at_B = min(can_stay_at_B(drone)[1] for drone in max_time_combo)\n",
    "    print(\"Combination:\", [drone['name'] for drone in max_time_combo], \"Max Time at Point B:\", max_time_at_B, \"hrs\")\n",
    "else:\n",
    "    print(\"No valid combinations found.\")\n",
    "\n",
    "print(\"\\nObjective 3 - Minimize Drones Used:\")\n",
    "if min_drones_combo:\n",
    "    print(\"Combination:\", [drone['name'] for drone in min_drones_combo], \"Drones Used:\", len(min_drones_combo))\n",
    "else:\n",
    "    print(\"No valid combinations found.\")\n"
   ]
  },
  {
   "cell_type": "code",
   "execution_count": 16,
   "id": "c9f11077",
   "metadata": {},
   "outputs": [
    {
     "name": "stdout",
     "output_type": "stream",
     "text": [
      "('Drone3', 'Drone6')\n"
     ]
    }
   ],
   "source": []
  },
  {
   "cell_type": "code",
   "execution_count": null,
   "id": "e606b16e",
   "metadata": {},
   "outputs": [],
   "source": []
  }
 ],
 "metadata": {
  "kernelspec": {
   "display_name": "Python 3 (ipykernel)",
   "language": "python",
   "name": "python3"
  },
  "language_info": {
   "codemirror_mode": {
    "name": "ipython",
    "version": 3
   },
   "file_extension": ".py",
   "mimetype": "text/x-python",
   "name": "python",
   "nbconvert_exporter": "python",
   "pygments_lexer": "ipython3",
   "version": "3.10.13"
  }
 },
 "nbformat": 4,
 "nbformat_minor": 5
}
